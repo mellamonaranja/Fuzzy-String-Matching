{
  "nbformat": 4,
  "nbformat_minor": 0,
  "metadata": {
    "colab": {
      "name": "Fuzzy String Matching",
      "provenance": [],
      "collapsed_sections": [],
      "authorship_tag": "ABX9TyNSMIxmJp0UhpP0ErHL38+l",
      "include_colab_link": true
    },
    "kernelspec": {
      "name": "python3",
      "display_name": "Python 3"
    }
  },
  "cells": [
    {
      "cell_type": "markdown",
      "metadata": {
        "id": "view-in-github",
        "colab_type": "text"
      },
      "source": [
        "<a href=\"https://colab.research.google.com/github/mellamonaranja/Fuzzy-String-Matching/blob/main/Fuzzy_String_Matching.ipynb\" target=\"_parent\"><img src=\"https://colab.research.google.com/assets/colab-badge.svg\" alt=\"Open In Colab\"/></a>"
      ]
    },
    {
      "cell_type": "code",
      "metadata": {
        "id": "oVZkxV-JbEOT"
      },
      "source": [
        "import numpy as np\n",
        "def levenshtein_ratio_and_distance(s,t,ratio_calc=False):\n",
        "  rows=len(s)+1\n",
        "  cols=len(t)+1\n",
        "  distance=np.zeros((rows,cols), dtype=int)\n",
        "\n",
        "  for i in range(1,rows):\n",
        "    for k in range(1,cols):\n",
        "      distance[i][0]=i\n",
        "      distance[0][k]=k\n",
        "\n",
        "  for col in range(1, cols):\n",
        "    for row in range(1, rows):\n",
        "      if s[row-1]==t[col-1]:\n",
        "        cost=0\n",
        "      else:\n",
        "        if ratio_calc==True:\n",
        "          cost=2\n",
        "        else:\n",
        "          cost=1\n",
        "      distance[row][col]=min(distance[row-1][col]+1,\n",
        "                           distance[row][col-1]+1,\n",
        "                           distance[row-1][col-1]+cost)\n",
        "    \n",
        "  if ratio_calc==True:\n",
        "    Ratio=((len(s)+len(t))-distance[row][col])/(len(s)+len(t))\n",
        "    return Ratio\n",
        "  else:\n",
        "    return 'The strings are {} edits away'.format(distance[row][col])    "
      ],
      "execution_count": null,
      "outputs": []
    },
    {
      "cell_type": "code",
      "metadata": {
        "colab": {
          "base_uri": "https://localhost:8080/"
        },
        "id": "od2Wvdb9bEZJ",
        "outputId": "14ece020-3825-457d-a9d0-e0effe6a642d"
      },
      "source": [
        "s1='Apple.'\n",
        "s2='apple'\n",
        "Distance=levenshtein_ratio_and_distance(s1,s2)\n",
        "print(Distance)\n",
        "\n",
        "Ratio=levenshtein_ratio_and_distance(s1,s2,ratio_calc=True)\n",
        "Ratio"
      ],
      "execution_count": null,
      "outputs": [
        {
          "output_type": "stream",
          "text": [
            "The strings are 2 edits away\n"
          ],
          "name": "stdout"
        },
        {
          "output_type": "execute_result",
          "data": {
            "text/plain": [
              "0.7272727272727273"
            ]
          },
          "metadata": {
            "tags": []
          },
          "execution_count": 32
        }
      ]
    },
    {
      "cell_type": "code",
      "metadata": {
        "colab": {
          "base_uri": "https://localhost:8080/"
        },
        "id": "e6GIPl0zbEfV",
        "outputId": "7b32e272-1ddc-4a99-b8c2-04b3502a95eb"
      },
      "source": [
        "!pip install Levenshtein\n",
        "import Levenshtein as lev"
      ],
      "execution_count": null,
      "outputs": [
        {
          "output_type": "stream",
          "text": [
            "Collecting Levenshtein\n",
            "\u001b[?25l  Downloading https://files.pythonhosted.org/packages/8e/41/ff25ae28c972a63abde29cd5cea7c648ae0e16b334693cede0522e66dd68/levenshtein-0.12.0-cp37-cp37m-manylinux1_x86_64.whl (158kB)\n",
            "\r\u001b[K     |██                              | 10kB 8.9MB/s eta 0:00:01\r\u001b[K     |████▏                           | 20kB 13.5MB/s eta 0:00:01\r\u001b[K     |██████▏                         | 30kB 10.4MB/s eta 0:00:01\r\u001b[K     |████████▎                       | 40kB 8.8MB/s eta 0:00:01\r\u001b[K     |██████████▍                     | 51kB 5.5MB/s eta 0:00:01\r\u001b[K     |████████████▍                   | 61kB 5.5MB/s eta 0:00:01\r\u001b[K     |██████████████▌                 | 71kB 5.5MB/s eta 0:00:01\r\u001b[K     |████████████████▋               | 81kB 6.1MB/s eta 0:00:01\r\u001b[K     |██████████████████▋             | 92kB 6.5MB/s eta 0:00:01\r\u001b[K     |████████████████████▊           | 102kB 6.8MB/s eta 0:00:01\r\u001b[K     |██████████████████████▉         | 112kB 6.8MB/s eta 0:00:01\r\u001b[K     |████████████████████████▉       | 122kB 6.8MB/s eta 0:00:01\r\u001b[K     |███████████████████████████     | 133kB 6.8MB/s eta 0:00:01\r\u001b[K     |█████████████████████████████   | 143kB 6.8MB/s eta 0:00:01\r\u001b[K     |███████████████████████████████ | 153kB 6.8MB/s eta 0:00:01\r\u001b[K     |████████████████████████████████| 163kB 6.8MB/s \n",
            "\u001b[?25hRequirement already satisfied: setuptools in /usr/local/lib/python3.7/dist-packages (from Levenshtein) (53.0.0)\n",
            "Installing collected packages: Levenshtein\n",
            "Successfully installed Levenshtein-0.12.0\n"
          ],
          "name": "stdout"
        }
      ]
    },
    {
      "cell_type": "code",
      "metadata": {
        "colab": {
          "base_uri": "https://localhost:8080/"
        },
        "id": "kAkasoYdbEj6",
        "outputId": "872d70ea-4e85-48af-b8e0-3bf15410185f"
      },
      "source": [
        "s1='APPLE.'\n",
        "s2='apple'\n",
        "Distance=lev.distance(s1.lower(),s2.lower())\n",
        "print(Distance)\n",
        "Ratio=lev.ratio(s1.lower(),s2.lower())\n",
        "print(Ratio)"
      ],
      "execution_count": null,
      "outputs": [
        {
          "output_type": "stream",
          "text": [
            "1\n",
            "0.9090909090909091\n"
          ],
          "name": "stdout"
        }
      ]
    },
    {
      "cell_type": "code",
      "metadata": {
        "id": "EVAByOcejjpp"
      },
      "source": [
        ""
      ],
      "execution_count": null,
      "outputs": []
    },
    {
      "cell_type": "code",
      "metadata": {
        "id": "MCH_Pcf1U3n0"
      },
      "source": [
        "from __future__ import division"
      ],
      "execution_count": null,
      "outputs": []
    },
    {
      "cell_type": "code",
      "metadata": {
        "colab": {
          "base_uri": "https://localhost:8080/"
        },
        "id": "rvz1nai0qJ1n",
        "outputId": "39494b37-6c7c-4863-b60f-c49d9821cd09"
      },
      "source": [
        "def jaro(s,t):\n",
        "  s_len=len(s)\n",
        "  t_len=len(t)\n",
        "\n",
        "  if s_len==0 and t_len==0:\n",
        "    return 1\n",
        "\n",
        "  match_distance=(max(s_len, t_len)//2)-1\n",
        "  s_matches=[False]*s_len\n",
        "  t_matches=[False]*t_len\n",
        "\n",
        "  matches=0\n",
        "  transpositions=0\n",
        "\n",
        "  for i in range(s_len):\n",
        "    start=max(0,i-match_distance)\n",
        "    end=min(i+match_distance+1, t_len)\n",
        "\n",
        "    for j in range(start, end):\n",
        "      if t_matches[j]:\n",
        "        continue\n",
        "      if s[i]!=t[j]:\n",
        "        continue\n",
        "      s_matches[i]=True\n",
        "      t_matches[j]=True\n",
        "      matches+=1\n",
        "      break\n",
        "\n",
        "  if matches==0:\n",
        "    return 0\n",
        "\n",
        "  k=0\n",
        "  for i in range(s_len):\n",
        "    if not s_matches[i]:\n",
        "      continue\n",
        "    while not t_matches[k]:\n",
        "      k+=1\n",
        "    if s[i]!=t[k]:\n",
        "      transpositions+=1\n",
        "    k+=1\n",
        "  return ((matches/s_len)+(matches/t_len)+((matches-transpositions/2)/matches))/3\n",
        "\n",
        "def main():\n",
        "  for s,t in [('MARTHA', 'MARHTA'),\n",
        "                 ('DIXON', 'DICKSONX'),\n",
        "                 ('JELLYFISH', 'SMELLYFISH')]:\n",
        "                 print('jaro distance(%r, %r)=%.10f'%(s,t,jaro(s,t)))\n",
        "\n",
        "if __name__=='__main__':\n",
        "  main()"
      ],
      "execution_count": null,
      "outputs": [
        {
          "output_type": "stream",
          "text": [
            "jaro distance('MARTHA', 'MARHTA')=0.9444444444\n",
            "jaro distance('DIXON', 'DICKSONX')=0.7666666667\n",
            "jaro distance('JELLYFISH', 'SMELLYFISH')=0.8962962963\n"
          ],
          "name": "stdout"
        }
      ]
    },
    {
      "cell_type": "code",
      "metadata": {
        "id": "ZppQ9x_7e1Ur"
      },
      "source": [
        "def main():\n",
        "  print('hello')\n",
        "  if __name__=='__main__':\n",
        "    print(main())"
      ],
      "execution_count": null,
      "outputs": []
    },
    {
      "cell_type": "code",
      "metadata": {
        "colab": {
          "base_uri": "https://localhost:8080/"
        },
        "id": "mh1OkXLlmw7a",
        "outputId": "cdbacc7f-d4c6-4afa-c0f0-8aecbd856d47"
      },
      "source": [
        "def main():\n",
        "  print('main')\n",
        "if __name__=='__main__':\n",
        "  main()"
      ],
      "execution_count": null,
      "outputs": [
        {
          "output_type": "stream",
          "text": [
            "main\n"
          ],
          "name": "stdout"
        }
      ]
    },
    {
      "cell_type": "code",
      "metadata": {
        "id": "6v7AhJKRrw_3"
      },
      "source": [
        "def add(x,y):\n",
        "  return x+y "
      ],
      "execution_count": null,
      "outputs": []
    },
    {
      "cell_type": "code",
      "metadata": {
        "colab": {
          "base_uri": "https://localhost:8080/"
        },
        "id": "YNF8BI-7sBtY",
        "outputId": "9d1550d8-f7cf-4072-98df-226cd12cd5d2"
      },
      "source": [
        "add(2,3)"
      ],
      "execution_count": null,
      "outputs": [
        {
          "output_type": "execute_result",
          "data": {
            "text/plain": [
              "5"
            ]
          },
          "metadata": {
            "tags": []
          },
          "execution_count": 8
        }
      ]
    },
    {
      "cell_type": "code",
      "metadata": {
        "colab": {
          "base_uri": "https://localhost:8080/"
        },
        "id": "NcEpEh2YsFUf",
        "outputId": "24c06b46-12e9-488f-bf2a-f81ab537cced"
      },
      "source": [
        "print('file one __name__ is set to:{}'.format(__name__))"
      ],
      "execution_count": null,
      "outputs": [
        {
          "output_type": "stream",
          "text": [
            "file one __name__ is set to:__main__\n"
          ],
          "name": "stdout"
        }
      ]
    },
    {
      "cell_type": "code",
      "metadata": {
        "id": "s6T6UkTpthL1"
      },
      "source": [
        "from math import floor, ceil"
      ],
      "execution_count": null,
      "outputs": []
    },
    {
      "cell_type": "code",
      "metadata": {
        "colab": {
          "base_uri": "https://localhost:8080/"
        },
        "id": "NBUy1TVCppG9",
        "outputId": "8e51ddc9-217f-46de-8cab-6c7f86d84fb3"
      },
      "source": [
        "def jaro_distance(s1,s2):\n",
        "  if (s1==s2):\n",
        "    return 1.0\n",
        "\n",
        "  len1=len(s1)\n",
        "  len2=len(s2)\n",
        "\n",
        "  max_dist=floor(max(len1, len2)/2)-1\n",
        "\n",
        "  match=0\n",
        "\n",
        "  hash_s1=[0]*len(s1)\n",
        "  hash_s2=[0]*len(s2)\n",
        "\n",
        "  for i in range(len1):\n",
        "    for j in range(max(0,i-max_dist),min(len2, i+max_dist+1)):\n",
        "      if (s1[i]==s2[j] and hash_s2[j]==0):\n",
        "        hash_s1[i]=1\n",
        "        hash_s2[j]=1\n",
        "        match+=1\n",
        "        break\n",
        "\n",
        "  if (match==0):\n",
        "    return 0.0\n",
        "\n",
        "  t=0\n",
        "  point=0\n",
        "\n",
        "  for i in range(len1):\n",
        "    if (hash_s1[i]):\n",
        "      while (hash_s2[point]==0):\n",
        "        point+=1\n",
        "    if (s1[i]!=s2[point]):\n",
        "      point+=1\n",
        "      t+=1\n",
        "  t//2\n",
        "\n",
        "  return (match/len1+match/len2+(match-t+1)/match)/3.0\n",
        "\n",
        "s1='CRATE'\n",
        "s2='TRACE'\n",
        "\n",
        "print(round(jaro_distance(s1,s2),6))\n"
      ],
      "execution_count": null,
      "outputs": [
        {
          "output_type": "stream",
          "text": [
            "0.511111\n"
          ],
          "name": "stdout"
        }
      ]
    },
    {
      "cell_type": "code",
      "metadata": {
        "id": "E600Q_4l4Dvq"
      },
      "source": [
        "from math import floor"
      ],
      "execution_count": null,
      "outputs": []
    },
    {
      "cell_type": "code",
      "metadata": {
        "colab": {
          "base_uri": "https://localhost:8080/"
        },
        "id": "-EyZFfio5SUs",
        "outputId": "1a7ce293-9993-4d65-867c-df2151a90c1b"
      },
      "source": [
        "def jaro_distance(s1,s2):\n",
        "  if (s1==s2):\n",
        "    return 1.0\n",
        "\n",
        "  len1=len(s1)\n",
        "  len2=len(s2)\n",
        "\n",
        "  if (len1==0 or len2==0):\n",
        "    return 0.0\n",
        "\n",
        "  max_dist=(max(len1, len2)//2)-1\n",
        "\n",
        "  match=0\n",
        "\n",
        "  hash_s1=[0]*len1\n",
        "  hash_s2=[0]*len2\n",
        "\n",
        "  for i in range(len1):\n",
        "    for j in range(max(1,i-max_dist),min(len2, i+max_dist+1)):\n",
        "      if (s1[i]==s2[j] and hash_s2[j]==0):\n",
        "        hash_s1[i]==1\n",
        "        hash_s2[j]==1\n",
        "        match+=1\n",
        "        break\n",
        "\n",
        "  if (match==0):\n",
        "    return 0.0\n",
        "\n",
        "  t=0\n",
        "  point=0\n",
        "\n",
        "  for i in range(len1):\n",
        "    if (hash_s1[i]):\n",
        "      while (hash_s2[point]==0):\n",
        "        point+=1\n",
        "      if (s1[i]!=s2[point]):\n",
        "        point+=1\n",
        "        t+=1\n",
        "      else:\n",
        "        point+=1\n",
        "    # global t\n",
        "    t/=2\n",
        "\n",
        "  return ((match/len1+match/len2+(match-t)/match)/3.0)\n",
        "\n",
        "def jaro_Winkler(s1,s2):\n",
        "  jaro_dist=jaro_distance(s1,s2)\n",
        "\n",
        "  len1=len(s1)\n",
        "  len2=len(s2)\n",
        "\n",
        "  if (jaro_dist>0.7):\n",
        "    prefix=0;\n",
        "\n",
        "    for i in range(min(len1, len2)):\n",
        "      if (s1[i]==s2[i]):\n",
        "        prefix+=1\n",
        "\n",
        "      else:\n",
        "        break\n",
        "\n",
        "    prefix=min(4,prefix)\n",
        "    jaro_dist+=0.1*prefix*(1-jaro_dist)\n",
        "  return jaro_dist \n",
        "\n",
        "# if __name__=='__main__':\n",
        "#   s1='TRATE'\n",
        "#   s2='TRACE'\n",
        "# print(jaro_Winkler(s1,s2))\n",
        "\n",
        "\n",
        "  \n",
        "s1 = \"TRATE\" \n",
        "s2 = \"TRACE\"  \n",
        "print(jaro_Winkler(s1, s2))\n"
      ],
      "execution_count": null,
      "outputs": [
        {
          "output_type": "stream",
          "text": [
            "0.8133333333333334\n"
          ],
          "name": "stdout"
        }
      ]
    },
    {
      "cell_type": "code",
      "metadata": {
        "colab": {
          "base_uri": "https://localhost:8080/"
        },
        "id": "in8NUfdP2f-x",
        "outputId": "0470032c-3b2c-426f-ffe7-20d68c768468"
      },
      "source": [
        "!pip install textdistance"
      ],
      "execution_count": null,
      "outputs": [
        {
          "output_type": "stream",
          "text": [
            "Collecting textdistance\n",
            "  Downloading https://files.pythonhosted.org/packages/2d/6d/a04e0ec4b82a2a554b44deb01cc5dcfa56502784a7af356b47f83906af91/textdistance-4.2.1-py3-none-any.whl\n",
            "Installing collected packages: textdistance\n",
            "Successfully installed textdistance-4.2.1\n"
          ],
          "name": "stdout"
        }
      ]
    },
    {
      "cell_type": "code",
      "metadata": {
        "id": "m-0ZqN6W98C1"
      },
      "source": [
        "import textdistance"
      ],
      "execution_count": null,
      "outputs": []
    },
    {
      "cell_type": "code",
      "metadata": {
        "colab": {
          "base_uri": "https://localhost:8080/"
        },
        "id": "rVIxYnF9uT4p",
        "outputId": "135442e2-d404-437c-a247-0548671f562e"
      },
      "source": [
        "textdistance.levenshtein('apple', 'APPLE.')"
      ],
      "execution_count": null,
      "outputs": [
        {
          "output_type": "execute_result",
          "data": {
            "text/plain": [
              "6"
            ]
          },
          "metadata": {
            "tags": []
          },
          "execution_count": 27
        }
      ]
    },
    {
      "cell_type": "code",
      "metadata": {
        "colab": {
          "base_uri": "https://localhost:8080/"
        },
        "id": "cdx1yMhd2s5Q",
        "outputId": "2ff1d7ed-fa10-4ba8-e07a-bccf6ce35c54"
      },
      "source": [
        "textdistance.levenshtein.normalized_similarity('text', 'test')"
      ],
      "execution_count": null,
      "outputs": [
        {
          "output_type": "execute_result",
          "data": {
            "text/plain": [
              "0.75"
            ]
          },
          "metadata": {
            "tags": []
          },
          "execution_count": 30
        }
      ]
    },
    {
      "cell_type": "code",
      "metadata": {
        "colab": {
          "base_uri": "https://localhost:8080/"
        },
        "id": "_1SwfuuU2zH7",
        "outputId": "1fc0d3ba-f86e-4699-bd49-e9a08692b8f9"
      },
      "source": [
        "textdistance.levenshtein.normalized_distance('apple', 'APPLE.')"
      ],
      "execution_count": null,
      "outputs": [
        {
          "output_type": "execute_result",
          "data": {
            "text/plain": [
              "1.0"
            ]
          },
          "metadata": {
            "tags": []
          },
          "execution_count": 29
        }
      ]
    },
    {
      "cell_type": "code",
      "metadata": {
        "colab": {
          "base_uri": "https://localhost:8080/"
        },
        "id": "Gc3Ifjfy25Mm",
        "outputId": "0d20cdb8-aaa0-4d11-f39c-2ada6abdbfcf"
      },
      "source": [
        "textdistance.jaro_winkler('apple', 'APPLE.')"
      ],
      "execution_count": null,
      "outputs": [
        {
          "output_type": "execute_result",
          "data": {
            "text/plain": [
              "0.0"
            ]
          },
          "metadata": {
            "tags": []
          },
          "execution_count": 31
        }
      ]
    },
    {
      "cell_type": "code",
      "metadata": {
        "colab": {
          "base_uri": "https://localhost:8080/"
        },
        "id": "pxuqc_qX6ARY",
        "outputId": "3ab078b8-ad79-4e28-f7ba-9b314dc4461c"
      },
      "source": [
        "textdistance.jaro_winkler('apple', 'aple.')"
      ],
      "execution_count": null,
      "outputs": [
        {
          "output_type": "execute_result",
          "data": {
            "text/plain": [
              "0.8933333333333333"
            ]
          },
          "metadata": {
            "tags": []
          },
          "execution_count": 32
        }
      ]
    },
    {
      "cell_type": "code",
      "metadata": {
        "colab": {
          "base_uri": "https://localhost:8080/"
        },
        "id": "ZzFrXgLi6cUj",
        "outputId": "bf1a550a-1e41-4395-c357-6b68cb4aa845"
      },
      "source": [
        "textdistance.jaro_winkler('apple', 'pple')"
      ],
      "execution_count": null,
      "outputs": [
        {
          "output_type": "execute_result",
          "data": {
            "text/plain": [
              "0.9333333333333332"
            ]
          },
          "metadata": {
            "tags": []
          },
          "execution_count": 34
        }
      ]
    },
    {
      "cell_type": "code",
      "metadata": {
        "colab": {
          "base_uri": "https://localhost:8080/"
        },
        "id": "K5Y0sbpX6GVg",
        "outputId": "8a021b10-6f00-4491-9e71-895ad41fc85c"
      },
      "source": [
        "textdistance.jaro_winkler('apple', 'elppa')"
      ],
      "execution_count": null,
      "outputs": [
        {
          "output_type": "execute_result",
          "data": {
            "text/plain": [
              "0.6"
            ]
          },
          "metadata": {
            "tags": []
          },
          "execution_count": 33
        }
      ]
    },
    {
      "cell_type": "code",
      "metadata": {
        "colab": {
          "base_uri": "https://localhost:8080/"
        },
        "id": "9Rn19BVL6Nut",
        "outputId": "a8731d29-92d7-4d56-8790-26c99330f5f7"
      },
      "source": [
        "t1=\"hello world\".split()\n",
        "t2=\"world hello\".split()\n",
        "textdistance.jaccard(t1,t2)"
      ],
      "execution_count": null,
      "outputs": [
        {
          "output_type": "execute_result",
          "data": {
            "text/plain": [
              "1.0"
            ]
          },
          "metadata": {
            "tags": []
          },
          "execution_count": 39
        }
      ]
    },
    {
      "cell_type": "code",
      "metadata": {
        "colab": {
          "base_uri": "https://localhost:8080/"
        },
        "id": "7O0LmewPFAca",
        "outputId": "931516b5-c0a8-4ce0-e27a-76e41e5f4d86"
      },
      "source": [
        "textdistance.sorensen(t1,t2)"
      ],
      "execution_count": null,
      "outputs": [
        {
          "output_type": "execute_result",
          "data": {
            "text/plain": [
              "1.0"
            ]
          },
          "metadata": {
            "tags": []
          },
          "execution_count": 40
        }
      ]
    },
    {
      "cell_type": "code",
      "metadata": {
        "colab": {
          "base_uri": "https://localhost:8080/"
        },
        "id": "7QrVEz6qAASY",
        "outputId": "844a4217-4ac8-41d8-caf4-89e20eab15f2"
      },
      "source": [
        "t1=\"hello new world\".split()\n",
        "t2=\"hello world\".split()\n",
        "textdistance.jaccard(t1,t2)"
      ],
      "execution_count": null,
      "outputs": [
        {
          "output_type": "execute_result",
          "data": {
            "text/plain": [
              "0.6666666666666666"
            ]
          },
          "metadata": {
            "tags": []
          },
          "execution_count": 36
        }
      ]
    },
    {
      "cell_type": "code",
      "metadata": {
        "colab": {
          "base_uri": "https://localhost:8080/"
        },
        "id": "LncLuA03AHqi",
        "outputId": "ff3d6daa-4366-4db5-cf76-0e9c4d66e8cb"
      },
      "source": [
        "textdistance.sorensen(t1,t2)"
      ],
      "execution_count": null,
      "outputs": [
        {
          "output_type": "execute_result",
          "data": {
            "text/plain": [
              "0.8"
            ]
          },
          "metadata": {
            "tags": []
          },
          "execution_count": 37
        }
      ]
    },
    {
      "cell_type": "code",
      "metadata": {
        "colab": {
          "base_uri": "https://localhost:8080/"
        },
        "id": "YPRZI73CE43i",
        "outputId": "67c8ef48-a3db-4b24-d233-f7b0f6128f05"
      },
      "source": [
        "textdistance.sorensen_dice(t1,t2)"
      ],
      "execution_count": null,
      "outputs": [
        {
          "output_type": "execute_result",
          "data": {
            "text/plain": [
              "1.0"
            ]
          },
          "metadata": {
            "tags": []
          },
          "execution_count": 41
        }
      ]
    },
    {
      "cell_type": "code",
      "metadata": {
        "id": "8AMt_BbtFHP7"
      },
      "source": [
        "def compare(first, second):\n",
        "  first=first.replace(' ', '')\n",
        "  second=second.replace(' ', '')\n",
        "\n",
        "  if first==second:\n",
        "    return 1\n",
        "  if len(first)<2 or len(second)<2:\n",
        "    return 0\n",
        "\n",
        "  firstBigrams={}\n",
        "  for i in range(len(first)-1):\n",
        "    bigram=first[i:i+2]\n",
        "    if bigram in firstBigrams:\n",
        "      firstBigrams[bigram]+=1\n",
        "    else:\n",
        "      firstBigrams[bigram]=1\n",
        "\n",
        "  intersection=0\n",
        "  for i in range(len(second)-1):\n",
        "    bigram=second[i:i+2]\n",
        "    if bigram in firstBigrams and firstBigrams[bigram]>0:\n",
        "      firstBigrams[bigram]-=1\n",
        "      intersection+=1\n",
        "  \n",
        "  return (2.0*intersection)/(len(first)+len(second)-2)"
      ],
      "execution_count": null,
      "outputs": []
    },
    {
      "cell_type": "code",
      "metadata": {
        "colab": {
          "base_uri": "https://localhost:8080/"
        },
        "id": "oajCQz7WI2It",
        "outputId": "9e571eac-4b56-40bd-d2e9-c11070242a5c"
      },
      "source": [
        "if __name__=='__main__':\n",
        "  t1=\"hello new world\"\n",
        "  t2=\"hello world\"\n",
        "\n",
        "  print(compare(t1,t2))"
      ],
      "execution_count": null,
      "outputs": [
        {
          "output_type": "stream",
          "text": [
            "0.7619047619047619\n"
          ],
          "name": "stdout"
        }
      ]
    },
    {
      "cell_type": "code",
      "metadata": {
        "colab": {
          "base_uri": "https://localhost:8080/"
        },
        "id": "3TFrAp0CJBUU",
        "outputId": "f050d623-ec94-4cff-ee28-48cbfc23969a"
      },
      "source": [
        "if __name__=='__main__':\n",
        "  t1=\"hello world\"\n",
        "  t2=\"world hello\"\n",
        "\n",
        "  print(compare(t1,t2))"
      ],
      "execution_count": null,
      "outputs": [
        {
          "output_type": "stream",
          "text": [
            "0.8888888888888888\n"
          ],
          "name": "stdout"
        }
      ]
    },
    {
      "cell_type": "code",
      "metadata": {
        "id": "KuGN8RcJMTCj"
      },
      "source": [
        "doc_trump = \"Mr. Trump became president after winning the political election. Though he lost the support of some republican friends, Trump is friends with President Putin\"\n",
        "doc_election = \"President Trump says Putin had no political interference is the election outcome. He says it was a witchhunt by political parties. He claimed President Putin is a friend who had nothing to do with the election\"\n",
        "doc_putin = \"Post elections, Vladimir Putin became President of Russia. President Putin had served as the Prime Minister earlier in his political career\"\n",
        "documents = [doc_trump, doc_election, doc_putin]"
      ],
      "execution_count": null,
      "outputs": []
    },
    {
      "cell_type": "code",
      "metadata": {
        "id": "qUd_UAB7MCED"
      },
      "source": [
        "from sklearn.feature_extraction.text import CountVectorizer\n",
        "import pandas as pd"
      ],
      "execution_count": null,
      "outputs": []
    },
    {
      "cell_type": "code",
      "metadata": {
        "id": "nGRQI12jMXfH"
      },
      "source": [
        "count_vectorizer=CountVectorizer(stop_words='english')\n",
        "count_vectorizer=CountVectorizer()\n",
        "sparse_matrix=count_vectorizer.fit_transform(documents)"
      ],
      "execution_count": null,
      "outputs": []
    },
    {
      "cell_type": "code",
      "metadata": {
        "colab": {
          "base_uri": "https://localhost:8080/",
          "height": 162
        },
        "id": "rsfco9I1M6nU",
        "outputId": "91363657-4bff-42d9-cb6e-7977f2d8f78d"
      },
      "source": [
        "doc_term_matrix=sparse_matrix.todense()\n",
        "df=pd.DataFrame(doc_term_matrix, columns=count_vectorizer.get_feature_names(),index=['doc_trump', 'doc_election', 'doc_putin'])\n",
        "df"
      ],
      "execution_count": null,
      "outputs": [
        {
          "output_type": "execute_result",
          "data": {
            "text/html": [
              "<div>\n",
              "<style scoped>\n",
              "    .dataframe tbody tr th:only-of-type {\n",
              "        vertical-align: middle;\n",
              "    }\n",
              "\n",
              "    .dataframe tbody tr th {\n",
              "        vertical-align: top;\n",
              "    }\n",
              "\n",
              "    .dataframe thead th {\n",
              "        text-align: right;\n",
              "    }\n",
              "</style>\n",
              "<table border=\"1\" class=\"dataframe\">\n",
              "  <thead>\n",
              "    <tr style=\"text-align: right;\">\n",
              "      <th></th>\n",
              "      <th>after</th>\n",
              "      <th>as</th>\n",
              "      <th>became</th>\n",
              "      <th>by</th>\n",
              "      <th>career</th>\n",
              "      <th>claimed</th>\n",
              "      <th>do</th>\n",
              "      <th>earlier</th>\n",
              "      <th>election</th>\n",
              "      <th>elections</th>\n",
              "      <th>friend</th>\n",
              "      <th>friends</th>\n",
              "      <th>had</th>\n",
              "      <th>he</th>\n",
              "      <th>his</th>\n",
              "      <th>in</th>\n",
              "      <th>interference</th>\n",
              "      <th>is</th>\n",
              "      <th>it</th>\n",
              "      <th>lost</th>\n",
              "      <th>minister</th>\n",
              "      <th>mr</th>\n",
              "      <th>no</th>\n",
              "      <th>nothing</th>\n",
              "      <th>of</th>\n",
              "      <th>outcome</th>\n",
              "      <th>parties</th>\n",
              "      <th>political</th>\n",
              "      <th>post</th>\n",
              "      <th>president</th>\n",
              "      <th>prime</th>\n",
              "      <th>putin</th>\n",
              "      <th>republican</th>\n",
              "      <th>russia</th>\n",
              "      <th>says</th>\n",
              "      <th>served</th>\n",
              "      <th>some</th>\n",
              "      <th>support</th>\n",
              "      <th>the</th>\n",
              "      <th>though</th>\n",
              "      <th>to</th>\n",
              "      <th>trump</th>\n",
              "      <th>vladimir</th>\n",
              "      <th>was</th>\n",
              "      <th>who</th>\n",
              "      <th>winning</th>\n",
              "      <th>witchhunt</th>\n",
              "      <th>with</th>\n",
              "    </tr>\n",
              "  </thead>\n",
              "  <tbody>\n",
              "    <tr>\n",
              "      <th>doc_trump</th>\n",
              "      <td>1</td>\n",
              "      <td>0</td>\n",
              "      <td>1</td>\n",
              "      <td>0</td>\n",
              "      <td>0</td>\n",
              "      <td>0</td>\n",
              "      <td>0</td>\n",
              "      <td>0</td>\n",
              "      <td>1</td>\n",
              "      <td>0</td>\n",
              "      <td>0</td>\n",
              "      <td>2</td>\n",
              "      <td>0</td>\n",
              "      <td>1</td>\n",
              "      <td>0</td>\n",
              "      <td>0</td>\n",
              "      <td>0</td>\n",
              "      <td>1</td>\n",
              "      <td>0</td>\n",
              "      <td>1</td>\n",
              "      <td>0</td>\n",
              "      <td>1</td>\n",
              "      <td>0</td>\n",
              "      <td>0</td>\n",
              "      <td>1</td>\n",
              "      <td>0</td>\n",
              "      <td>0</td>\n",
              "      <td>1</td>\n",
              "      <td>0</td>\n",
              "      <td>2</td>\n",
              "      <td>0</td>\n",
              "      <td>1</td>\n",
              "      <td>1</td>\n",
              "      <td>0</td>\n",
              "      <td>0</td>\n",
              "      <td>0</td>\n",
              "      <td>1</td>\n",
              "      <td>1</td>\n",
              "      <td>2</td>\n",
              "      <td>1</td>\n",
              "      <td>0</td>\n",
              "      <td>2</td>\n",
              "      <td>0</td>\n",
              "      <td>0</td>\n",
              "      <td>0</td>\n",
              "      <td>1</td>\n",
              "      <td>0</td>\n",
              "      <td>1</td>\n",
              "    </tr>\n",
              "    <tr>\n",
              "      <th>doc_election</th>\n",
              "      <td>0</td>\n",
              "      <td>0</td>\n",
              "      <td>0</td>\n",
              "      <td>1</td>\n",
              "      <td>0</td>\n",
              "      <td>1</td>\n",
              "      <td>1</td>\n",
              "      <td>0</td>\n",
              "      <td>2</td>\n",
              "      <td>0</td>\n",
              "      <td>1</td>\n",
              "      <td>0</td>\n",
              "      <td>2</td>\n",
              "      <td>2</td>\n",
              "      <td>0</td>\n",
              "      <td>0</td>\n",
              "      <td>1</td>\n",
              "      <td>2</td>\n",
              "      <td>1</td>\n",
              "      <td>0</td>\n",
              "      <td>0</td>\n",
              "      <td>0</td>\n",
              "      <td>1</td>\n",
              "      <td>1</td>\n",
              "      <td>0</td>\n",
              "      <td>1</td>\n",
              "      <td>1</td>\n",
              "      <td>2</td>\n",
              "      <td>0</td>\n",
              "      <td>2</td>\n",
              "      <td>0</td>\n",
              "      <td>2</td>\n",
              "      <td>0</td>\n",
              "      <td>0</td>\n",
              "      <td>2</td>\n",
              "      <td>0</td>\n",
              "      <td>0</td>\n",
              "      <td>0</td>\n",
              "      <td>2</td>\n",
              "      <td>0</td>\n",
              "      <td>1</td>\n",
              "      <td>1</td>\n",
              "      <td>0</td>\n",
              "      <td>1</td>\n",
              "      <td>1</td>\n",
              "      <td>0</td>\n",
              "      <td>1</td>\n",
              "      <td>1</td>\n",
              "    </tr>\n",
              "    <tr>\n",
              "      <th>doc_putin</th>\n",
              "      <td>0</td>\n",
              "      <td>1</td>\n",
              "      <td>1</td>\n",
              "      <td>0</td>\n",
              "      <td>1</td>\n",
              "      <td>0</td>\n",
              "      <td>0</td>\n",
              "      <td>1</td>\n",
              "      <td>0</td>\n",
              "      <td>1</td>\n",
              "      <td>0</td>\n",
              "      <td>0</td>\n",
              "      <td>1</td>\n",
              "      <td>0</td>\n",
              "      <td>1</td>\n",
              "      <td>1</td>\n",
              "      <td>0</td>\n",
              "      <td>0</td>\n",
              "      <td>0</td>\n",
              "      <td>0</td>\n",
              "      <td>1</td>\n",
              "      <td>0</td>\n",
              "      <td>0</td>\n",
              "      <td>0</td>\n",
              "      <td>1</td>\n",
              "      <td>0</td>\n",
              "      <td>0</td>\n",
              "      <td>1</td>\n",
              "      <td>1</td>\n",
              "      <td>2</td>\n",
              "      <td>1</td>\n",
              "      <td>2</td>\n",
              "      <td>0</td>\n",
              "      <td>1</td>\n",
              "      <td>0</td>\n",
              "      <td>1</td>\n",
              "      <td>0</td>\n",
              "      <td>0</td>\n",
              "      <td>1</td>\n",
              "      <td>0</td>\n",
              "      <td>0</td>\n",
              "      <td>0</td>\n",
              "      <td>1</td>\n",
              "      <td>0</td>\n",
              "      <td>0</td>\n",
              "      <td>0</td>\n",
              "      <td>0</td>\n",
              "      <td>0</td>\n",
              "    </tr>\n",
              "  </tbody>\n",
              "</table>\n",
              "</div>"
            ],
            "text/plain": [
              "              after  as  became  by  career  ...  was  who  winning  witchhunt  with\n",
              "doc_trump         1   0       1   0       0  ...    0    0        1          0     1\n",
              "doc_election      0   0       0   1       0  ...    1    1        0          1     1\n",
              "doc_putin         0   1       1   0       1  ...    0    0        0          0     0\n",
              "\n",
              "[3 rows x 48 columns]"
            ]
          },
          "metadata": {
            "tags": []
          },
          "execution_count": 4
        }
      ]
    },
    {
      "cell_type": "code",
      "metadata": {
        "colab": {
          "base_uri": "https://localhost:8080/"
        },
        "id": "jqQPnVEKNXUx",
        "outputId": "474e4f15-df95-4015-d564-c202eaadecec"
      },
      "source": [
        "from sklearn.metrics.pairwise import cosine_similarity\n",
        "print(cosine_similarity(df,df))"
      ],
      "execution_count": null,
      "outputs": [
        {
          "output_type": "stream",
          "text": [
            "[[1.         0.51480485 0.38890873]\n",
            " [0.51480485 1.         0.38829014]\n",
            " [0.38890873 0.38829014 1.        ]]\n"
          ],
          "name": "stdout"
        }
      ]
    },
    {
      "cell_type": "code",
      "metadata": {
        "id": "GyJPfqJPNugm"
      },
      "source": [
        "doc_soup = \"Soup is a primarily liquid food, generally served warm or hot (but may be cool or cold), that is made by combining ingredients of meat or vegetables with stock, juice, water, or another liquid. \"\n",
        "\n",
        "doc_noodles = \"Noodles are a staple food in many cultures. They are made from unleavened dough which is stretched, extruded, or rolled flat and cut into one of a variety of shapes.\"\n",
        "\n",
        "doc_dosa = \"Dosa is a type of pancake from the Indian subcontinent, made from a fermented batter. It is somewhat similar to a crepe in appearance. Its main ingredients are rice and black gram.\"\n",
        "\n",
        "documents = [doc_trump, doc_election, doc_putin, doc_soup, doc_noodles, doc_dosa]"
      ],
      "execution_count": null,
      "outputs": []
    },
    {
      "cell_type": "code",
      "metadata": {
        "colab": {
          "base_uri": "https://localhost:8080/"
        },
        "id": "GML9sb3oOSkV",
        "outputId": "4d054e53-0c18-4ec4-f500-c0fc749fd30d"
      },
      "source": [
        "import gensim\n",
        "from gensim.matutils import softcossim\n",
        "from gensim import corpora\n",
        "import gensim.downloader as api\n",
        "from gensim.utils import simple_preprocess\n",
        "print(gensim.__version__)"
      ],
      "execution_count": null,
      "outputs": [
        {
          "output_type": "stream",
          "text": [
            "3.6.0\n"
          ],
          "name": "stdout"
        }
      ]
    },
    {
      "cell_type": "code",
      "metadata": {
        "colab": {
          "base_uri": "https://localhost:8080/"
        },
        "id": "VBjHnRsaOqD2",
        "outputId": "d85c415e-e732-4f01-8ba9-1fe5d96721f6"
      },
      "source": [
        "fasttext_model300=api.load('fasttext-wiki-news-subwords-300')"
      ],
      "execution_count": null,
      "outputs": [
        {
          "output_type": "stream",
          "text": [
            "[================================================--] 97.3% 932.4/958.4MB downloaded\n"
          ],
          "name": "stdout"
        }
      ]
    },
    {
      "cell_type": "code",
      "metadata": {
        "id": "upmmUkrNOz3D"
      },
      "source": [
        "dictionary=corpora.Dictionary([simple_preprocess(doc) for doc in documents])"
      ],
      "execution_count": null,
      "outputs": []
    },
    {
      "cell_type": "code",
      "metadata": {
        "id": "34AUvk6gRode"
      },
      "source": [
        "similarity_matrix=fasttext_model300.similarity_matrix(dictionary, tfidf=None, threshold=0.0, exponent=2.0, nonzero_limit=100)\n",
        "sent_1 = dictionary.doc2bow(simple_preprocess(doc_trump))\n",
        "sent_2 = dictionary.doc2bow(simple_preprocess(doc_election))\n",
        "sent_3 = dictionary.doc2bow(simple_preprocess(doc_putin))\n",
        "sent_4 = dictionary.doc2bow(simple_preprocess(doc_soup))\n",
        "sent_5 = dictionary.doc2bow(simple_preprocess(doc_noodles))\n",
        "sent_6 = dictionary.doc2bow(simple_preprocess(doc_dosa))\n",
        "sentences = [sent_1, sent_2, sent_3, sent_4, sent_5, sent_6]"
      ],
      "execution_count": null,
      "outputs": []
    },
    {
      "cell_type": "code",
      "metadata": {
        "colab": {
          "base_uri": "https://localhost:8080/"
        },
        "id": "46KEeEXgVZz9",
        "outputId": "20e12d64-21a3-4b93-9deb-3d09f366290c"
      },
      "source": [
        "print(softcossim(sent_1, sent_2, similarity_matrix))"
      ],
      "execution_count": null,
      "outputs": [
        {
          "output_type": "stream",
          "text": [
            "0.5842470477718544\n"
          ],
          "name": "stdout"
        }
      ]
    },
    {
      "cell_type": "code",
      "metadata": {
        "id": "nnzRdvJHZvxA"
      },
      "source": [
        "import numpy as np"
      ],
      "execution_count": null,
      "outputs": []
    },
    {
      "cell_type": "code",
      "metadata": {
        "id": "6diN-EuQaF80"
      },
      "source": [
        "def create_soft_cossim_matrix(sentences):\n",
        "  len_array=np.arange(len(sentences))\n",
        "  xx,yy=np.meshgrid(len_array, len_array)\n",
        "\n",
        "  cossim_mat=pd.DataFrame([[round(softcossim(sentences[i],sentences[j], similarity_matrix) ,2) for i, j in zip(x,y)] for y, x in zip(xx, yy)])\n",
        "\n",
        "  return cossim_mat\n"
      ],
      "execution_count": null,
      "outputs": []
    },
    {
      "cell_type": "code",
      "metadata": {
        "colab": {
          "base_uri": "https://localhost:8080/",
          "height": 324
        },
        "id": "8wjkennIhl7c",
        "outputId": "069e7f24-d272-431e-a972-87442c10ffe8"
      },
      "source": [
        "create_soft_cossim_matrix(sentences)"
      ],
      "execution_count": null,
      "outputs": [
        {
          "output_type": "error",
          "ename": "TypeError",
          "evalue": "ignored",
          "traceback": [
            "\u001b[0;31m---------------------------------------------------------------------------\u001b[0m",
            "\u001b[0;31mTypeError\u001b[0m                                 Traceback (most recent call last)",
            "\u001b[0;32m<ipython-input-31-9be96dd803cc>\u001b[0m in \u001b[0;36m<module>\u001b[0;34m()\u001b[0m\n\u001b[0;32m----> 1\u001b[0;31m \u001b[0mcreate_soft_cossim_matrix\u001b[0m\u001b[0;34m(\u001b[0m\u001b[0msentences\u001b[0m\u001b[0;34m)\u001b[0m\u001b[0;34m\u001b[0m\u001b[0;34m\u001b[0m\u001b[0m\n\u001b[0m",
            "\u001b[0;32m<ipython-input-29-a8ad35f704fb>\u001b[0m in \u001b[0;36mcreate_soft_cossim_matrix\u001b[0;34m(sentences)\u001b[0m\n\u001b[1;32m      3\u001b[0m   \u001b[0mxx\u001b[0m\u001b[0;34m,\u001b[0m\u001b[0myy\u001b[0m\u001b[0;34m=\u001b[0m\u001b[0mnp\u001b[0m\u001b[0;34m.\u001b[0m\u001b[0mmeshgrid\u001b[0m\u001b[0;34m(\u001b[0m\u001b[0mlen_array\u001b[0m\u001b[0;34m,\u001b[0m \u001b[0mlen_array\u001b[0m\u001b[0;34m)\u001b[0m\u001b[0;34m\u001b[0m\u001b[0;34m\u001b[0m\u001b[0m\n\u001b[1;32m      4\u001b[0m \u001b[0;34m\u001b[0m\u001b[0m\n\u001b[0;32m----> 5\u001b[0;31m   \u001b[0mcossim_mat\u001b[0m\u001b[0;34m=\u001b[0m\u001b[0mpd\u001b[0m\u001b[0;34m.\u001b[0m\u001b[0mDataFrame\u001b[0m\u001b[0;34m(\u001b[0m\u001b[0;34m[\u001b[0m\u001b[0;34m[\u001b[0m\u001b[0mround\u001b[0m\u001b[0;34m(\u001b[0m\u001b[0msoftcossim\u001b[0m\u001b[0;34m(\u001b[0m\u001b[0msentences\u001b[0m\u001b[0;34m[\u001b[0m\u001b[0mi\u001b[0m\u001b[0;34m]\u001b[0m\u001b[0;34m,\u001b[0m\u001b[0msentences\u001b[0m\u001b[0;34m[\u001b[0m\u001b[0mj\u001b[0m\u001b[0;34m]\u001b[0m\u001b[0;34m,\u001b[0m \u001b[0msimilarity_matrix\u001b[0m\u001b[0;34m)\u001b[0m \u001b[0;34m,\u001b[0m\u001b[0;36m2\u001b[0m\u001b[0;34m)\u001b[0m \u001b[0;32mfor\u001b[0m \u001b[0mi\u001b[0m\u001b[0;34m,\u001b[0m \u001b[0mj\u001b[0m \u001b[0;32min\u001b[0m \u001b[0mzip\u001b[0m\u001b[0;34m(\u001b[0m\u001b[0mx\u001b[0m\u001b[0;34m,\u001b[0m\u001b[0my\u001b[0m\u001b[0;34m)\u001b[0m\u001b[0;34m]\u001b[0m \u001b[0;32mfor\u001b[0m \u001b[0my\u001b[0m\u001b[0;34m,\u001b[0m \u001b[0mx\u001b[0m \u001b[0;32min\u001b[0m \u001b[0mzip\u001b[0m\u001b[0;34m(\u001b[0m\u001b[0mxx\u001b[0m\u001b[0;34m,\u001b[0m \u001b[0myy\u001b[0m\u001b[0;34m)\u001b[0m\u001b[0;34m]\u001b[0m\u001b[0;34m)\u001b[0m\u001b[0;34m\u001b[0m\u001b[0;34m\u001b[0m\u001b[0m\n\u001b[0m\u001b[1;32m      6\u001b[0m \u001b[0;34m\u001b[0m\u001b[0m\n\u001b[1;32m      7\u001b[0m   \u001b[0;32mreturn\u001b[0m \u001b[0mcossim_mat\u001b[0m\u001b[0;34m\u001b[0m\u001b[0;34m\u001b[0m\u001b[0m\n",
            "\u001b[0;32m<ipython-input-29-a8ad35f704fb>\u001b[0m in \u001b[0;36m<listcomp>\u001b[0;34m(.0)\u001b[0m\n\u001b[1;32m      3\u001b[0m   \u001b[0mxx\u001b[0m\u001b[0;34m,\u001b[0m\u001b[0myy\u001b[0m\u001b[0;34m=\u001b[0m\u001b[0mnp\u001b[0m\u001b[0;34m.\u001b[0m\u001b[0mmeshgrid\u001b[0m\u001b[0;34m(\u001b[0m\u001b[0mlen_array\u001b[0m\u001b[0;34m,\u001b[0m \u001b[0mlen_array\u001b[0m\u001b[0;34m)\u001b[0m\u001b[0;34m\u001b[0m\u001b[0;34m\u001b[0m\u001b[0m\n\u001b[1;32m      4\u001b[0m \u001b[0;34m\u001b[0m\u001b[0m\n\u001b[0;32m----> 5\u001b[0;31m   \u001b[0mcossim_mat\u001b[0m\u001b[0;34m=\u001b[0m\u001b[0mpd\u001b[0m\u001b[0;34m.\u001b[0m\u001b[0mDataFrame\u001b[0m\u001b[0;34m(\u001b[0m\u001b[0;34m[\u001b[0m\u001b[0;34m[\u001b[0m\u001b[0mround\u001b[0m\u001b[0;34m(\u001b[0m\u001b[0msoftcossim\u001b[0m\u001b[0;34m(\u001b[0m\u001b[0msentences\u001b[0m\u001b[0;34m[\u001b[0m\u001b[0mi\u001b[0m\u001b[0;34m]\u001b[0m\u001b[0;34m,\u001b[0m\u001b[0msentences\u001b[0m\u001b[0;34m[\u001b[0m\u001b[0mj\u001b[0m\u001b[0;34m]\u001b[0m\u001b[0;34m,\u001b[0m \u001b[0msimilarity_matrix\u001b[0m\u001b[0;34m)\u001b[0m \u001b[0;34m,\u001b[0m\u001b[0;36m2\u001b[0m\u001b[0;34m)\u001b[0m \u001b[0;32mfor\u001b[0m \u001b[0mi\u001b[0m\u001b[0;34m,\u001b[0m \u001b[0mj\u001b[0m \u001b[0;32min\u001b[0m \u001b[0mzip\u001b[0m\u001b[0;34m(\u001b[0m\u001b[0mx\u001b[0m\u001b[0;34m,\u001b[0m\u001b[0my\u001b[0m\u001b[0;34m)\u001b[0m\u001b[0;34m]\u001b[0m \u001b[0;32mfor\u001b[0m \u001b[0my\u001b[0m\u001b[0;34m,\u001b[0m \u001b[0mx\u001b[0m \u001b[0;32min\u001b[0m \u001b[0mzip\u001b[0m\u001b[0;34m(\u001b[0m\u001b[0mxx\u001b[0m\u001b[0;34m,\u001b[0m \u001b[0myy\u001b[0m\u001b[0;34m)\u001b[0m\u001b[0;34m]\u001b[0m\u001b[0;34m)\u001b[0m\u001b[0;34m\u001b[0m\u001b[0;34m\u001b[0m\u001b[0m\n\u001b[0m\u001b[1;32m      6\u001b[0m \u001b[0;34m\u001b[0m\u001b[0m\n\u001b[1;32m      7\u001b[0m   \u001b[0;32mreturn\u001b[0m \u001b[0mcossim_mat\u001b[0m\u001b[0;34m\u001b[0m\u001b[0;34m\u001b[0m\u001b[0m\n",
            "\u001b[0;32m<ipython-input-29-a8ad35f704fb>\u001b[0m in \u001b[0;36m<listcomp>\u001b[0;34m(.0)\u001b[0m\n\u001b[1;32m      3\u001b[0m   \u001b[0mxx\u001b[0m\u001b[0;34m,\u001b[0m\u001b[0myy\u001b[0m\u001b[0;34m=\u001b[0m\u001b[0mnp\u001b[0m\u001b[0;34m.\u001b[0m\u001b[0mmeshgrid\u001b[0m\u001b[0;34m(\u001b[0m\u001b[0mlen_array\u001b[0m\u001b[0;34m,\u001b[0m \u001b[0mlen_array\u001b[0m\u001b[0;34m)\u001b[0m\u001b[0;34m\u001b[0m\u001b[0;34m\u001b[0m\u001b[0m\n\u001b[1;32m      4\u001b[0m \u001b[0;34m\u001b[0m\u001b[0m\n\u001b[0;32m----> 5\u001b[0;31m   \u001b[0mcossim_mat\u001b[0m\u001b[0;34m=\u001b[0m\u001b[0mpd\u001b[0m\u001b[0;34m.\u001b[0m\u001b[0mDataFrame\u001b[0m\u001b[0;34m(\u001b[0m\u001b[0;34m[\u001b[0m\u001b[0;34m[\u001b[0m\u001b[0mround\u001b[0m\u001b[0;34m(\u001b[0m\u001b[0msoftcossim\u001b[0m\u001b[0;34m(\u001b[0m\u001b[0msentences\u001b[0m\u001b[0;34m[\u001b[0m\u001b[0mi\u001b[0m\u001b[0;34m]\u001b[0m\u001b[0;34m,\u001b[0m\u001b[0msentences\u001b[0m\u001b[0;34m[\u001b[0m\u001b[0mj\u001b[0m\u001b[0;34m]\u001b[0m\u001b[0;34m,\u001b[0m \u001b[0msimilarity_matrix\u001b[0m\u001b[0;34m)\u001b[0m \u001b[0;34m,\u001b[0m\u001b[0;36m2\u001b[0m\u001b[0;34m)\u001b[0m \u001b[0;32mfor\u001b[0m \u001b[0mi\u001b[0m\u001b[0;34m,\u001b[0m \u001b[0mj\u001b[0m \u001b[0;32min\u001b[0m \u001b[0mzip\u001b[0m\u001b[0;34m(\u001b[0m\u001b[0mx\u001b[0m\u001b[0;34m,\u001b[0m\u001b[0my\u001b[0m\u001b[0;34m)\u001b[0m\u001b[0;34m]\u001b[0m \u001b[0;32mfor\u001b[0m \u001b[0my\u001b[0m\u001b[0;34m,\u001b[0m \u001b[0mx\u001b[0m \u001b[0;32min\u001b[0m \u001b[0mzip\u001b[0m\u001b[0;34m(\u001b[0m\u001b[0mxx\u001b[0m\u001b[0;34m,\u001b[0m \u001b[0myy\u001b[0m\u001b[0;34m)\u001b[0m\u001b[0;34m]\u001b[0m\u001b[0;34m)\u001b[0m\u001b[0;34m\u001b[0m\u001b[0;34m\u001b[0m\u001b[0m\n\u001b[0m\u001b[1;32m      6\u001b[0m \u001b[0;34m\u001b[0m\u001b[0m\n\u001b[1;32m      7\u001b[0m   \u001b[0;32mreturn\u001b[0m \u001b[0mcossim_mat\u001b[0m\u001b[0;34m\u001b[0m\u001b[0;34m\u001b[0m\u001b[0m\n",
            "\u001b[0;32m/usr/local/lib/python3.7/dist-packages/gensim/matutils.py\u001b[0m in \u001b[0;36msoftcossim\u001b[0;34m(vec1, vec2, similarity_matrix)\u001b[0m\n\u001b[1;32m    847\u001b[0m         \u001b[0;32mreturn\u001b[0m \u001b[0;36m0.0\u001b[0m\u001b[0;34m\u001b[0m\u001b[0;34m\u001b[0m\u001b[0m\n\u001b[1;32m    848\u001b[0m \u001b[0;34m\u001b[0m\u001b[0m\n\u001b[0;32m--> 849\u001b[0;31m     \u001b[0mvec1\u001b[0m \u001b[0;34m=\u001b[0m \u001b[0mdict\u001b[0m\u001b[0;34m(\u001b[0m\u001b[0mvec1\u001b[0m\u001b[0;34m)\u001b[0m\u001b[0;34m\u001b[0m\u001b[0;34m\u001b[0m\u001b[0m\n\u001b[0m\u001b[1;32m    850\u001b[0m     \u001b[0mvec2\u001b[0m \u001b[0;34m=\u001b[0m \u001b[0mdict\u001b[0m\u001b[0;34m(\u001b[0m\u001b[0mvec2\u001b[0m\u001b[0;34m)\u001b[0m\u001b[0;34m\u001b[0m\u001b[0;34m\u001b[0m\u001b[0m\n\u001b[1;32m    851\u001b[0m     \u001b[0mword_indices\u001b[0m \u001b[0;34m=\u001b[0m \u001b[0msorted\u001b[0m\u001b[0;34m(\u001b[0m\u001b[0mset\u001b[0m\u001b[0;34m(\u001b[0m\u001b[0mchain\u001b[0m\u001b[0;34m(\u001b[0m\u001b[0mvec1\u001b[0m\u001b[0;34m,\u001b[0m \u001b[0mvec2\u001b[0m\u001b[0;34m)\u001b[0m\u001b[0;34m)\u001b[0m\u001b[0;34m)\u001b[0m\u001b[0;34m\u001b[0m\u001b[0;34m\u001b[0m\u001b[0m\n",
            "\u001b[0;31mTypeError\u001b[0m: 'int' object is not iterable"
          ]
        }
      ]
    },
    {
      "cell_type": "code",
      "metadata": {
        "id": "jXTUUFvYgjdW"
      },
      "source": [
        "dictionary = corpora.Dictionary([simple_preprocess(doc) for doc in documents])\n",
        "\n",
        "# Prepare the similarity matrix\n",
        "similarity_matrix = fasttext_model300.similarity_matrix(dictionary, tfidf=None, threshold=0.0, exponent=2.0, nonzero_limit=100)\n",
        "\n",
        "# Convert the sentences into bag-of-words vectors.\n",
        "sent_1 = dictionary.doc2bow(simple_preprocess(doc_trump))\n",
        "sent_2 = dictionary.doc2bow(simple_preprocess(doc_election))\n",
        "sent_3 = dictionary.doc2bow(simple_preprocess(doc_putin))\n",
        "sent_4 = dictionary.doc2bow(simple_preprocess(doc_soup))\n",
        "sent_5 = dictionary.doc2bow(simple_preprocess(doc_noodles))\n",
        "sent_6 = dictionary.doc2bow(simple_preprocess(doc_dosa))\n",
        "\n",
        "sentences = [sent_1, sent_2, sent_3, sent_4, sent_5, sent_6]"
      ],
      "execution_count": null,
      "outputs": []
    },
    {
      "cell_type": "code",
      "metadata": {
        "colab": {
          "base_uri": "https://localhost:8080/"
        },
        "id": "q6YpjPG8iFTv",
        "outputId": "46aa4a90-6c81-450b-c5b1-9c780cfe5648"
      },
      "source": [
        "print(softcossim(sent_1, sent_2, similarity_matrix))"
      ],
      "execution_count": null,
      "outputs": [
        {
          "output_type": "stream",
          "text": [
            "0.5842470477718544\n"
          ],
          "name": "stdout"
        }
      ]
    },
    {
      "cell_type": "code",
      "metadata": {
        "colab": {
          "base_uri": "https://localhost:8080/",
          "height": 235
        },
        "id": "az48vbCqiH_S",
        "outputId": "f6413a44-b24e-45a0-ca71-f6cef88cdaa5"
      },
      "source": [
        "import numpy as np\n",
        "import pandas as pd\n",
        "\n",
        "def create_soft_cossim_matrix(sentences):\n",
        "    len_array = np.arange(len(sentences))\n",
        "    xx, yy = np.meshgrid(len_array, len_array)\n",
        "    cossim_mat = pd.DataFrame([[round(softcossim(sentences[i],sentences[j], similarity_matrix) ,2) for i, j in zip(x,y)] for y, x in zip(xx, yy)])\n",
        "    return cossim_mat\n",
        "\n",
        "create_soft_cossim_matrix(sentences)"
      ],
      "execution_count": null,
      "outputs": [
        {
          "output_type": "execute_result",
          "data": {
            "text/html": [
              "<div>\n",
              "<style scoped>\n",
              "    .dataframe tbody tr th:only-of-type {\n",
              "        vertical-align: middle;\n",
              "    }\n",
              "\n",
              "    .dataframe tbody tr th {\n",
              "        vertical-align: top;\n",
              "    }\n",
              "\n",
              "    .dataframe thead th {\n",
              "        text-align: right;\n",
              "    }\n",
              "</style>\n",
              "<table border=\"1\" class=\"dataframe\">\n",
              "  <thead>\n",
              "    <tr style=\"text-align: right;\">\n",
              "      <th></th>\n",
              "      <th>0</th>\n",
              "      <th>1</th>\n",
              "      <th>2</th>\n",
              "      <th>3</th>\n",
              "      <th>4</th>\n",
              "      <th>5</th>\n",
              "    </tr>\n",
              "  </thead>\n",
              "  <tbody>\n",
              "    <tr>\n",
              "      <th>0</th>\n",
              "      <td>1.00</td>\n",
              "      <td>0.58</td>\n",
              "      <td>0.56</td>\n",
              "      <td>0.28</td>\n",
              "      <td>0.34</td>\n",
              "      <td>0.40</td>\n",
              "    </tr>\n",
              "    <tr>\n",
              "      <th>1</th>\n",
              "      <td>0.58</td>\n",
              "      <td>1.00</td>\n",
              "      <td>0.54</td>\n",
              "      <td>0.25</td>\n",
              "      <td>0.31</td>\n",
              "      <td>0.43</td>\n",
              "    </tr>\n",
              "    <tr>\n",
              "      <th>2</th>\n",
              "      <td>0.56</td>\n",
              "      <td>0.54</td>\n",
              "      <td>1.00</td>\n",
              "      <td>0.19</td>\n",
              "      <td>0.25</td>\n",
              "      <td>0.36</td>\n",
              "    </tr>\n",
              "    <tr>\n",
              "      <th>3</th>\n",
              "      <td>0.28</td>\n",
              "      <td>0.25</td>\n",
              "      <td>0.19</td>\n",
              "      <td>1.00</td>\n",
              "      <td>0.50</td>\n",
              "      <td>0.38</td>\n",
              "    </tr>\n",
              "    <tr>\n",
              "      <th>4</th>\n",
              "      <td>0.34</td>\n",
              "      <td>0.31</td>\n",
              "      <td>0.25</td>\n",
              "      <td>0.50</td>\n",
              "      <td>1.00</td>\n",
              "      <td>0.56</td>\n",
              "    </tr>\n",
              "    <tr>\n",
              "      <th>5</th>\n",
              "      <td>0.40</td>\n",
              "      <td>0.43</td>\n",
              "      <td>0.36</td>\n",
              "      <td>0.38</td>\n",
              "      <td>0.56</td>\n",
              "      <td>1.00</td>\n",
              "    </tr>\n",
              "  </tbody>\n",
              "</table>\n",
              "</div>"
            ],
            "text/plain": [
              "      0     1     2     3     4     5\n",
              "0  1.00  0.58  0.56  0.28  0.34  0.40\n",
              "1  0.58  1.00  0.54  0.25  0.31  0.43\n",
              "2  0.56  0.54  1.00  0.19  0.25  0.36\n",
              "3  0.28  0.25  0.19  1.00  0.50  0.38\n",
              "4  0.34  0.31  0.25  0.50  1.00  0.56\n",
              "5  0.40  0.43  0.36  0.38  0.56  1.00"
            ]
          },
          "metadata": {
            "tags": []
          },
          "execution_count": 35
        }
      ]
    },
    {
      "cell_type": "code",
      "metadata": {
        "id": "zhHKN57gOCrk"
      },
      "source": [
        ""
      ],
      "execution_count": null,
      "outputs": []
    }
  ]
}