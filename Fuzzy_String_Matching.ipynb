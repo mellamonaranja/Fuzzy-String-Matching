{
  "nbformat": 4,
  "nbformat_minor": 0,
  "metadata": {
    "colab": {
      "name": "Fuzzy String Matching",
      "provenance": [],
      "authorship_tag": "ABX9TyPJGO6Fj+i/jPuq6v5BDLI3",
      "include_colab_link": true
    },
    "kernelspec": {
      "name": "python3",
      "display_name": "Python 3"
    }
  },
  "cells": [
    {
      "cell_type": "markdown",
      "metadata": {
        "id": "view-in-github",
        "colab_type": "text"
      },
      "source": [
        "<a href=\"https://colab.research.google.com/github/mellamonaranja/Fuzzy-String-Matching/blob/main/Fuzzy_String_Matching.ipynb\" target=\"_parent\"><img src=\"https://colab.research.google.com/assets/colab-badge.svg\" alt=\"Open In Colab\"/></a>"
      ]
    },
    {
      "cell_type": "code",
      "metadata": {
        "id": "MUWPfa1AS6_b"
      },
      "source": [
        "import numpy as np\n",
        "\n",
        "def levenshtein(seq1, seq2):\n",
        "    size_x = len(seq1) + 1\n",
        "    size_y = len(seq2) + 1\n",
        "    matrix = np.zeros ((size_x, size_y))\n",
        "    print(matrix)\n",
        "    for x in xrange(size_x):\n",
        "        matrix [x, 0] = x\n",
        "    for y in xrange(size_y):\n",
        "        matrix [0, y] = y\n",
        "\n",
        "    for x in xrange(1, size_x):\n",
        "        for y in xrange(1, size_y):\n",
        "            if seq1[x-1] == seq2[y-1]:\n",
        "                matrix [x,y] = min(\n",
        "                    matrix[x-1, y] + 1,\n",
        "                    matrix[x-1, y-1],\n",
        "                    matrix[x, y-1] + 1\n",
        "                )\n",
        "            else:\n",
        "                matrix [x,y] = min(\n",
        "                    matrix[x-1,y] + 1,\n",
        "                    matrix[x-1,y-1] + 1,\n",
        "                    matrix[x,y-1] + 1\n",
        "                )\n",
        "    print(matrix)\n",
        "    return (matrix[size_x - 1, size_y - 1])"
      ],
      "execution_count": 4,
      "outputs": []
    },
    {
      "cell_type": "code",
      "metadata": {
        "colab": {
          "base_uri": "https://localhost:8080/"
        },
        "id": "uMz2AzthS758",
        "outputId": "b20ea3e9-a3b7-413f-a837-6b420234618d"
      },
      "source": [
        "size_x = len('seq1') + 1\n",
        "size_y = len('seq2222') + 1\n",
        "matrix = np.zeros ((size_x, size_y))\n",
        "print(matrix)"
      ],
      "execution_count": 6,
      "outputs": [
        {
          "output_type": "stream",
          "text": [
            "[[0. 0. 0. 0. 0. 0. 0. 0.]\n",
            " [0. 0. 0. 0. 0. 0. 0. 0.]\n",
            " [0. 0. 0. 0. 0. 0. 0. 0.]\n",
            " [0. 0. 0. 0. 0. 0. 0. 0.]\n",
            " [0. 0. 0. 0. 0. 0. 0. 0.]]\n"
          ],
          "name": "stdout"
        }
      ]
    },
    {
      "cell_type": "code",
      "metadata": {
        "colab": {
          "base_uri": "https://localhost:8080/"
        },
        "id": "_Qo_8ZjITeq1",
        "outputId": "ee9ad335-bc59-4820-f879-397944db4998"
      },
      "source": [
        "Str1 = \"Apple Inc.\"\n",
        "Str2 = \"Apple Inc.\"\n",
        "Result = Str1 == Str2\n",
        "print(Result)"
      ],
      "execution_count": 8,
      "outputs": [
        {
          "output_type": "stream",
          "text": [
            "True\n"
          ],
          "name": "stdout"
        }
      ]
    },
    {
      "cell_type": "code",
      "metadata": {
        "id": "BcLLOtqbUAB7"
      },
      "source": [
        "import numpy as np\n",
        "def levenshtein_ratio_and_distance(s, t, ratio_calc = False):\n",
        "    \"\"\" levenshtein_ratio_and_distance:\n",
        "        Calculates levenshtein distance between two strings.\n",
        "        If ratio_calc = True, the function computes the\n",
        "        levenshtein distance ratio of similarity between two strings\n",
        "        For all i and j, distance[i,j] will contain the Levenshtein\n",
        "        distance between the first i characters of s and the\n",
        "        first j characters of t\n",
        "    \"\"\"\n",
        "    # Initialize matrix of zeros\n",
        "    rows = len(s)+1\n",
        "    cols = len(t)+1\n",
        "    distance = np.zeros((rows,cols),dtype = int)\n",
        "\n",
        "    # Populate matrix of zeros with the indeces of each character of both strings\n",
        "    for i in range(1, rows):\n",
        "        for k in range(1,cols):\n",
        "            distance[i][0] = i\n",
        "            distance[0][k] = k\n",
        "\n",
        "    # Iterate over the matrix to compute the cost of deletions,insertions and/or substitutions    \n",
        "    for col in range(1, cols):\n",
        "        for row in range(1, rows):\n",
        "            if s[row-1] == t[col-1]:\n",
        "                cost = 0 # If the characters are the same in the two strings in a given position [i,j] then the cost is 0\n",
        "            else:\n",
        "                # In order to align the results with those of the Python Levenshtein package, if we choose to calculate the ratio\n",
        "                # the cost of a substitution is 2. If we calculate just distance, then the cost of a substitution is 1.\n",
        "                if ratio_calc == True:\n",
        "                    cost = 2\n",
        "                else:\n",
        "                    cost = 1\n",
        "            distance[row][col] = min(distance[row-1][col] + 1,      # Cost of deletions\n",
        "                                 distance[row][col-1] + 1,          # Cost of insertions\n",
        "                                 distance[row-1][col-1] + cost)     # Cost of substitutions\n",
        "    if ratio_calc == True:\n",
        "        # Computation of the Levenshtein Distance Ratio\n",
        "        Ratio = ((len(s)+len(t)) - distance[row][col]) / (len(s)+len(t))\n",
        "        return Ratio\n",
        "    else:\n",
        "        # print(distance) # Uncomment if you want to see the matrix showing how the algorithm computes the cost of deletions,\n",
        "        # insertions and/or substitutions\n",
        "        # This is the minimum number of edits needed to convert string a to string b\n",
        "        return \"The strings are {} edits away\".format(distance[row][col])"
      ],
      "execution_count": 9,
      "outputs": []
    },
    {
      "cell_type": "code",
      "metadata": {
        "colab": {
          "base_uri": "https://localhost:8080/"
        },
        "id": "-1WX6z0hURDo",
        "outputId": "38abd72b-b81d-42da-c223-5aee6e2ea8ed"
      },
      "source": [
        "Str1 = \"Apple Inc.\"\n",
        "Str2 = \"apple Inc\"\n",
        "Distance = levenshtein_ratio_and_distance(Str1,Str2)\n",
        "print(Distance)\n",
        "Ratio = levenshtein_ratio_and_distance(Str1,Str2,ratio_calc = True)\n",
        "print(Ratio)"
      ],
      "execution_count": 10,
      "outputs": [
        {
          "output_type": "stream",
          "text": [
            "The strings are 2 edits away\n",
            "0.8421052631578947\n"
          ],
          "name": "stdout"
        }
      ]
    },
    {
      "cell_type": "code",
      "metadata": {
        "colab": {
          "base_uri": "https://localhost:8080/"
        },
        "id": "UR-pbCr3UUBS",
        "outputId": "a5cc3137-f091-4934-b5e8-8b08c0947bfb"
      },
      "source": [
        "Str1 = \"Apple Inc.\"\n",
        "Str2 = \"apple Inc\"\n",
        "Distance = levenshtein_ratio_and_distance(Str1.lower(),Str2.lower())\n",
        "print(Distance)\n",
        "Ratio = levenshtein_ratio_and_distance(Str1.lower(),Str2.lower(),ratio_calc = True)\n",
        "print(Ratio)"
      ],
      "execution_count": 11,
      "outputs": [
        {
          "output_type": "stream",
          "text": [
            "The strings are 1 edits away\n",
            "0.9473684210526315\n"
          ],
          "name": "stdout"
        }
      ]
    },
    {
      "cell_type": "code",
      "metadata": {
        "colab": {
          "base_uri": "https://localhost:8080/"
        },
        "id": "38Mt05gKUXkb",
        "outputId": "3211722a-b01b-4b25-901d-4593b8c62c5d"
      },
      "source": [
        "!pip install Levenshtein\n",
        "import Levenshtein as lev\n",
        "Str1 = \"Apple Inc.\"\n",
        "Str2 = \"apple Inc\"\n",
        "Distance = lev.distance(Str1.lower(),Str2.lower()),\n",
        "print(Distance)\n",
        "Ratio = lev.ratio(Str1.lower(),Str2.lower())\n",
        "print(Ratio)\n"
      ],
      "execution_count": 13,
      "outputs": [
        {
          "output_type": "stream",
          "text": [
            "Collecting Levenshtein\n",
            "\u001b[?25l  Downloading https://files.pythonhosted.org/packages/8e/41/ff25ae28c972a63abde29cd5cea7c648ae0e16b334693cede0522e66dd68/levenshtein-0.12.0-cp37-cp37m-manylinux1_x86_64.whl (158kB)\n",
            "\r\u001b[K     |██                              | 10kB 8.1MB/s eta 0:00:01\r\u001b[K     |████▏                           | 20kB 12.7MB/s eta 0:00:01\r\u001b[K     |██████▏                         | 30kB 9.1MB/s eta 0:00:01\r\u001b[K     |████████▎                       | 40kB 7.7MB/s eta 0:00:01\r\u001b[K     |██████████▍                     | 51kB 5.2MB/s eta 0:00:01\r\u001b[K     |████████████▍                   | 61kB 4.7MB/s eta 0:00:01\r\u001b[K     |██████████████▌                 | 71kB 5.2MB/s eta 0:00:01\r\u001b[K     |████████████████▋               | 81kB 5.6MB/s eta 0:00:01\r\u001b[K     |██████████████████▋             | 92kB 5.6MB/s eta 0:00:01\r\u001b[K     |████████████████████▊           | 102kB 6.1MB/s eta 0:00:01\r\u001b[K     |██████████████████████▉         | 112kB 6.1MB/s eta 0:00:01\r\u001b[K     |████████████████████████▉       | 122kB 6.1MB/s eta 0:00:01\r\u001b[K     |███████████████████████████     | 133kB 6.1MB/s eta 0:00:01\r\u001b[K     |█████████████████████████████   | 143kB 6.1MB/s eta 0:00:01\r\u001b[K     |███████████████████████████████ | 153kB 6.1MB/s eta 0:00:01\r\u001b[K     |████████████████████████████████| 163kB 6.1MB/s \n",
            "\u001b[?25hRequirement already satisfied: setuptools in /usr/local/lib/python3.7/dist-packages (from Levenshtein) (53.0.0)\n",
            "Installing collected packages: Levenshtein\n",
            "Successfully installed Levenshtein-0.12.0\n",
            "(1,)\n",
            "0.9473684210526315\n"
          ],
          "name": "stdout"
        }
      ]
    },
    {
      "cell_type": "code",
      "metadata": {
        "colab": {
          "base_uri": "https://localhost:8080/"
        },
        "id": "86Wy_IE9UaCm",
        "outputId": "05235589-dc01-4162-fba8-a0a04249ed97"
      },
      "source": [
        "!pip install fuzzywuzzy\n",
        "from fuzzywuzzy import fuzz\n",
        "Str1 = \"Apple Inc.\"\n",
        "Str2 = \"apple Inc\"\n",
        "Ratio = fuzz.ratio(Str1.lower(),Str2.lower())\n",
        "print(Ratio)"
      ],
      "execution_count": 15,
      "outputs": [
        {
          "output_type": "stream",
          "text": [
            "Collecting fuzzywuzzy\n",
            "  Downloading https://files.pythonhosted.org/packages/43/ff/74f23998ad2f93b945c0309f825be92e04e0348e062026998b5eefef4c33/fuzzywuzzy-0.18.0-py2.py3-none-any.whl\n",
            "Installing collected packages: fuzzywuzzy\n",
            "Successfully installed fuzzywuzzy-0.18.0\n",
            "95\n"
          ],
          "name": "stdout"
        }
      ]
    },
    {
      "cell_type": "code",
      "metadata": {
        "colab": {
          "base_uri": "https://localhost:8080/"
        },
        "id": "jPPaKceGUqAq",
        "outputId": "17a6fc30-31ce-4d03-af4e-c90e14ad4f19"
      },
      "source": [
        "Str1 = \"Los Angeles Lakers\"\n",
        "Str2 = \"Lakers\"\n",
        "Ratio = fuzz.ratio(Str1.lower(),Str2.lower())\n",
        "Partial_Ratio = fuzz.partial_ratio(Str1.lower(),Str2.lower())\n",
        "print(Ratio)\n",
        "print(Partial_Ratio)"
      ],
      "execution_count": 16,
      "outputs": [
        {
          "output_type": "stream",
          "text": [
            "50\n",
            "100\n"
          ],
          "name": "stdout"
        }
      ]
    },
    {
      "cell_type": "code",
      "metadata": {
        "id": "MCH_Pcf1U3n0"
      },
      "source": [
        ""
      ],
      "execution_count": null,
      "outputs": []
    }
  ]
}